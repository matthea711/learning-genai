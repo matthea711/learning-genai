{
  "nbformat": 4,
  "nbformat_minor": 0,
  "metadata": {
    "colab": {
      "provenance": [],
      "collapsed_sections": [
        "B_36gZ7V0_-_",
        "QHZ8eU382YFt"
      ],
      "toc_visible": true,
      "authorship_tag": "ABX9TyOQoDhQgXTLjocGml6vALm0",
      "include_colab_link": true
    },
    "kernelspec": {
      "name": "python3",
      "display_name": "Python 3"
    },
    "language_info": {
      "name": "python"
    }
  },
  "cells": [
    {
      "cell_type": "markdown",
      "metadata": {
        "id": "view-in-github",
        "colab_type": "text"
      },
      "source": [
        "<a href=\"https://colab.research.google.com/github/matthea711/learning-genai/blob/main/TravelPlannerAgent.ipynb\" target=\"_parent\"><img src=\"https://colab.research.google.com/assets/colab-badge.svg\" alt=\"Open In Colab\"/></a>"
      ]
    },
    {
      "cell_type": "markdown",
      "source": [
        "# 1. Setup & Configuration"
      ],
      "metadata": {
        "id": "hRX7GN0y3rgi"
      }
    },
    {
      "cell_type": "markdown",
      "source": [
        "## 1.1. Installation"
      ],
      "metadata": {
        "id": "B_36gZ7V0_-_"
      }
    },
    {
      "cell_type": "code",
      "source": [
        "!pip install langchain"
      ],
      "metadata": {
        "colab": {
          "base_uri": "https://localhost:8080/"
        },
        "collapsed": true,
        "id": "U86EIvu21Cn2",
        "outputId": "49b121e3-8594-4e8c-b53e-f177cc067978"
      },
      "execution_count": 92,
      "outputs": [
        {
          "output_type": "stream",
          "name": "stdout",
          "text": [
            "Requirement already satisfied: langchain in /usr/local/lib/python3.11/dist-packages (0.3.25)\n",
            "Requirement already satisfied: langchain-core<1.0.0,>=0.3.58 in /usr/local/lib/python3.11/dist-packages (from langchain) (0.3.61)\n",
            "Requirement already satisfied: langchain-text-splitters<1.0.0,>=0.3.8 in /usr/local/lib/python3.11/dist-packages (from langchain) (0.3.8)\n",
            "Requirement already satisfied: langsmith<0.4,>=0.1.17 in /usr/local/lib/python3.11/dist-packages (from langchain) (0.3.42)\n",
            "Requirement already satisfied: pydantic<3.0.0,>=2.7.4 in /usr/local/lib/python3.11/dist-packages (from langchain) (2.11.4)\n",
            "Requirement already satisfied: SQLAlchemy<3,>=1.4 in /usr/local/lib/python3.11/dist-packages (from langchain) (2.0.40)\n",
            "Requirement already satisfied: requests<3,>=2 in /usr/local/lib/python3.11/dist-packages (from langchain) (2.32.3)\n",
            "Requirement already satisfied: PyYAML>=5.3 in /usr/local/lib/python3.11/dist-packages (from langchain) (6.0.2)\n",
            "Requirement already satisfied: tenacity!=8.4.0,<10.0.0,>=8.1.0 in /usr/local/lib/python3.11/dist-packages (from langchain-core<1.0.0,>=0.3.58->langchain) (9.1.2)\n",
            "Requirement already satisfied: jsonpatch<2.0,>=1.33 in /usr/local/lib/python3.11/dist-packages (from langchain-core<1.0.0,>=0.3.58->langchain) (1.33)\n",
            "Requirement already satisfied: packaging<25,>=23.2 in /usr/local/lib/python3.11/dist-packages (from langchain-core<1.0.0,>=0.3.58->langchain) (24.2)\n",
            "Requirement already satisfied: typing-extensions>=4.7 in /usr/local/lib/python3.11/dist-packages (from langchain-core<1.0.0,>=0.3.58->langchain) (4.13.2)\n",
            "Requirement already satisfied: httpx<1,>=0.23.0 in /usr/local/lib/python3.11/dist-packages (from langsmith<0.4,>=0.1.17->langchain) (0.28.1)\n",
            "Requirement already satisfied: orjson<4.0.0,>=3.9.14 in /usr/local/lib/python3.11/dist-packages (from langsmith<0.4,>=0.1.17->langchain) (3.10.18)\n",
            "Requirement already satisfied: requests-toolbelt<2.0.0,>=1.0.0 in /usr/local/lib/python3.11/dist-packages (from langsmith<0.4,>=0.1.17->langchain) (1.0.0)\n",
            "Requirement already satisfied: zstandard<0.24.0,>=0.23.0 in /usr/local/lib/python3.11/dist-packages (from langsmith<0.4,>=0.1.17->langchain) (0.23.0)\n",
            "Requirement already satisfied: annotated-types>=0.6.0 in /usr/local/lib/python3.11/dist-packages (from pydantic<3.0.0,>=2.7.4->langchain) (0.7.0)\n",
            "Requirement already satisfied: pydantic-core==2.33.2 in /usr/local/lib/python3.11/dist-packages (from pydantic<3.0.0,>=2.7.4->langchain) (2.33.2)\n",
            "Requirement already satisfied: typing-inspection>=0.4.0 in /usr/local/lib/python3.11/dist-packages (from pydantic<3.0.0,>=2.7.4->langchain) (0.4.0)\n",
            "Requirement already satisfied: charset-normalizer<4,>=2 in /usr/local/lib/python3.11/dist-packages (from requests<3,>=2->langchain) (3.4.2)\n",
            "Requirement already satisfied: idna<4,>=2.5 in /usr/local/lib/python3.11/dist-packages (from requests<3,>=2->langchain) (3.10)\n",
            "Requirement already satisfied: urllib3<3,>=1.21.1 in /usr/local/lib/python3.11/dist-packages (from requests<3,>=2->langchain) (2.4.0)\n",
            "Requirement already satisfied: certifi>=2017.4.17 in /usr/local/lib/python3.11/dist-packages (from requests<3,>=2->langchain) (2025.4.26)\n",
            "Requirement already satisfied: greenlet>=1 in /usr/local/lib/python3.11/dist-packages (from SQLAlchemy<3,>=1.4->langchain) (3.2.2)\n",
            "Requirement already satisfied: anyio in /usr/local/lib/python3.11/dist-packages (from httpx<1,>=0.23.0->langsmith<0.4,>=0.1.17->langchain) (4.9.0)\n",
            "Requirement already satisfied: httpcore==1.* in /usr/local/lib/python3.11/dist-packages (from httpx<1,>=0.23.0->langsmith<0.4,>=0.1.17->langchain) (1.0.9)\n",
            "Requirement already satisfied: h11>=0.16 in /usr/local/lib/python3.11/dist-packages (from httpcore==1.*->httpx<1,>=0.23.0->langsmith<0.4,>=0.1.17->langchain) (0.16.0)\n",
            "Requirement already satisfied: jsonpointer>=1.9 in /usr/local/lib/python3.11/dist-packages (from jsonpatch<2.0,>=1.33->langchain-core<1.0.0,>=0.3.58->langchain) (3.0.0)\n",
            "Requirement already satisfied: sniffio>=1.1 in /usr/local/lib/python3.11/dist-packages (from anyio->httpx<1,>=0.23.0->langsmith<0.4,>=0.1.17->langchain) (1.3.1)\n"
          ]
        }
      ]
    },
    {
      "cell_type": "code",
      "source": [
        "!pip install langgraph"
      ],
      "metadata": {
        "colab": {
          "base_uri": "https://localhost:8080/"
        },
        "collapsed": true,
        "id": "J24rSqXm1MYr",
        "outputId": "e2a1bef3-a923-4005-e0f9-8aa133c65205"
      },
      "execution_count": 93,
      "outputs": [
        {
          "output_type": "stream",
          "name": "stdout",
          "text": [
            "Requirement already satisfied: langgraph in /usr/local/lib/python3.11/dist-packages (0.4.7)\n",
            "Requirement already satisfied: langchain-core>=0.1 in /usr/local/lib/python3.11/dist-packages (from langgraph) (0.3.61)\n",
            "Requirement already satisfied: langgraph-checkpoint>=2.0.26 in /usr/local/lib/python3.11/dist-packages (from langgraph) (2.0.26)\n",
            "Requirement already satisfied: langgraph-prebuilt>=0.2.0 in /usr/local/lib/python3.11/dist-packages (from langgraph) (0.2.1)\n",
            "Requirement already satisfied: langgraph-sdk>=0.1.42 in /usr/local/lib/python3.11/dist-packages (from langgraph) (0.1.70)\n",
            "Requirement already satisfied: pydantic>=2.7.4 in /usr/local/lib/python3.11/dist-packages (from langgraph) (2.11.4)\n",
            "Requirement already satisfied: xxhash>=3.5.0 in /usr/local/lib/python3.11/dist-packages (from langgraph) (3.5.0)\n",
            "Requirement already satisfied: langsmith<0.4,>=0.1.126 in /usr/local/lib/python3.11/dist-packages (from langchain-core>=0.1->langgraph) (0.3.42)\n",
            "Requirement already satisfied: tenacity!=8.4.0,<10.0.0,>=8.1.0 in /usr/local/lib/python3.11/dist-packages (from langchain-core>=0.1->langgraph) (9.1.2)\n",
            "Requirement already satisfied: jsonpatch<2.0,>=1.33 in /usr/local/lib/python3.11/dist-packages (from langchain-core>=0.1->langgraph) (1.33)\n",
            "Requirement already satisfied: PyYAML>=5.3 in /usr/local/lib/python3.11/dist-packages (from langchain-core>=0.1->langgraph) (6.0.2)\n",
            "Requirement already satisfied: packaging<25,>=23.2 in /usr/local/lib/python3.11/dist-packages (from langchain-core>=0.1->langgraph) (24.2)\n",
            "Requirement already satisfied: typing-extensions>=4.7 in /usr/local/lib/python3.11/dist-packages (from langchain-core>=0.1->langgraph) (4.13.2)\n",
            "Requirement already satisfied: ormsgpack<2.0.0,>=1.8.0 in /usr/local/lib/python3.11/dist-packages (from langgraph-checkpoint>=2.0.26->langgraph) (1.10.0)\n",
            "Requirement already satisfied: httpx>=0.25.2 in /usr/local/lib/python3.11/dist-packages (from langgraph-sdk>=0.1.42->langgraph) (0.28.1)\n",
            "Requirement already satisfied: orjson>=3.10.1 in /usr/local/lib/python3.11/dist-packages (from langgraph-sdk>=0.1.42->langgraph) (3.10.18)\n",
            "Requirement already satisfied: annotated-types>=0.6.0 in /usr/local/lib/python3.11/dist-packages (from pydantic>=2.7.4->langgraph) (0.7.0)\n",
            "Requirement already satisfied: pydantic-core==2.33.2 in /usr/local/lib/python3.11/dist-packages (from pydantic>=2.7.4->langgraph) (2.33.2)\n",
            "Requirement already satisfied: typing-inspection>=0.4.0 in /usr/local/lib/python3.11/dist-packages (from pydantic>=2.7.4->langgraph) (0.4.0)\n",
            "Requirement already satisfied: anyio in /usr/local/lib/python3.11/dist-packages (from httpx>=0.25.2->langgraph-sdk>=0.1.42->langgraph) (4.9.0)\n",
            "Requirement already satisfied: certifi in /usr/local/lib/python3.11/dist-packages (from httpx>=0.25.2->langgraph-sdk>=0.1.42->langgraph) (2025.4.26)\n",
            "Requirement already satisfied: httpcore==1.* in /usr/local/lib/python3.11/dist-packages (from httpx>=0.25.2->langgraph-sdk>=0.1.42->langgraph) (1.0.9)\n",
            "Requirement already satisfied: idna in /usr/local/lib/python3.11/dist-packages (from httpx>=0.25.2->langgraph-sdk>=0.1.42->langgraph) (3.10)\n",
            "Requirement already satisfied: h11>=0.16 in /usr/local/lib/python3.11/dist-packages (from httpcore==1.*->httpx>=0.25.2->langgraph-sdk>=0.1.42->langgraph) (0.16.0)\n",
            "Requirement already satisfied: jsonpointer>=1.9 in /usr/local/lib/python3.11/dist-packages (from jsonpatch<2.0,>=1.33->langchain-core>=0.1->langgraph) (3.0.0)\n",
            "Requirement already satisfied: requests<3,>=2 in /usr/local/lib/python3.11/dist-packages (from langsmith<0.4,>=0.1.126->langchain-core>=0.1->langgraph) (2.32.3)\n",
            "Requirement already satisfied: requests-toolbelt<2.0.0,>=1.0.0 in /usr/local/lib/python3.11/dist-packages (from langsmith<0.4,>=0.1.126->langchain-core>=0.1->langgraph) (1.0.0)\n",
            "Requirement already satisfied: zstandard<0.24.0,>=0.23.0 in /usr/local/lib/python3.11/dist-packages (from langsmith<0.4,>=0.1.126->langchain-core>=0.1->langgraph) (0.23.0)\n",
            "Requirement already satisfied: charset-normalizer<4,>=2 in /usr/local/lib/python3.11/dist-packages (from requests<3,>=2->langsmith<0.4,>=0.1.126->langchain-core>=0.1->langgraph) (3.4.2)\n",
            "Requirement already satisfied: urllib3<3,>=1.21.1 in /usr/local/lib/python3.11/dist-packages (from requests<3,>=2->langsmith<0.4,>=0.1.126->langchain-core>=0.1->langgraph) (2.4.0)\n",
            "Requirement already satisfied: sniffio>=1.1 in /usr/local/lib/python3.11/dist-packages (from anyio->httpx>=0.25.2->langgraph-sdk>=0.1.42->langgraph) (1.3.1)\n"
          ]
        }
      ]
    },
    {
      "cell_type": "code",
      "source": [
        "!pip install -U langchain_openai"
      ],
      "metadata": {
        "colab": {
          "base_uri": "https://localhost:8080/"
        },
        "collapsed": true,
        "id": "zzz9gcTC1gxC",
        "outputId": "f499fd6d-b100-4ae7-ead2-26bb16d0327f"
      },
      "execution_count": 94,
      "outputs": [
        {
          "output_type": "stream",
          "name": "stdout",
          "text": [
            "Requirement already satisfied: langchain_openai in /usr/local/lib/python3.11/dist-packages (0.3.18)\n",
            "Requirement already satisfied: langchain-core<1.0.0,>=0.3.61 in /usr/local/lib/python3.11/dist-packages (from langchain_openai) (0.3.61)\n",
            "Requirement already satisfied: openai<2.0.0,>=1.68.2 in /usr/local/lib/python3.11/dist-packages (from langchain_openai) (1.78.1)\n",
            "Requirement already satisfied: tiktoken<1,>=0.7 in /usr/local/lib/python3.11/dist-packages (from langchain_openai) (0.9.0)\n",
            "Requirement already satisfied: langsmith<0.4,>=0.1.126 in /usr/local/lib/python3.11/dist-packages (from langchain-core<1.0.0,>=0.3.61->langchain_openai) (0.3.42)\n",
            "Requirement already satisfied: tenacity!=8.4.0,<10.0.0,>=8.1.0 in /usr/local/lib/python3.11/dist-packages (from langchain-core<1.0.0,>=0.3.61->langchain_openai) (9.1.2)\n",
            "Requirement already satisfied: jsonpatch<2.0,>=1.33 in /usr/local/lib/python3.11/dist-packages (from langchain-core<1.0.0,>=0.3.61->langchain_openai) (1.33)\n",
            "Requirement already satisfied: PyYAML>=5.3 in /usr/local/lib/python3.11/dist-packages (from langchain-core<1.0.0,>=0.3.61->langchain_openai) (6.0.2)\n",
            "Requirement already satisfied: packaging<25,>=23.2 in /usr/local/lib/python3.11/dist-packages (from langchain-core<1.0.0,>=0.3.61->langchain_openai) (24.2)\n",
            "Requirement already satisfied: typing-extensions>=4.7 in /usr/local/lib/python3.11/dist-packages (from langchain-core<1.0.0,>=0.3.61->langchain_openai) (4.13.2)\n",
            "Requirement already satisfied: pydantic>=2.7.4 in /usr/local/lib/python3.11/dist-packages (from langchain-core<1.0.0,>=0.3.61->langchain_openai) (2.11.4)\n",
            "Requirement already satisfied: anyio<5,>=3.5.0 in /usr/local/lib/python3.11/dist-packages (from openai<2.0.0,>=1.68.2->langchain_openai) (4.9.0)\n",
            "Requirement already satisfied: distro<2,>=1.7.0 in /usr/local/lib/python3.11/dist-packages (from openai<2.0.0,>=1.68.2->langchain_openai) (1.9.0)\n",
            "Requirement already satisfied: httpx<1,>=0.23.0 in /usr/local/lib/python3.11/dist-packages (from openai<2.0.0,>=1.68.2->langchain_openai) (0.28.1)\n",
            "Requirement already satisfied: jiter<1,>=0.4.0 in /usr/local/lib/python3.11/dist-packages (from openai<2.0.0,>=1.68.2->langchain_openai) (0.9.0)\n",
            "Requirement already satisfied: sniffio in /usr/local/lib/python3.11/dist-packages (from openai<2.0.0,>=1.68.2->langchain_openai) (1.3.1)\n",
            "Requirement already satisfied: tqdm>4 in /usr/local/lib/python3.11/dist-packages (from openai<2.0.0,>=1.68.2->langchain_openai) (4.67.1)\n",
            "Requirement already satisfied: regex>=2022.1.18 in /usr/local/lib/python3.11/dist-packages (from tiktoken<1,>=0.7->langchain_openai) (2024.11.6)\n",
            "Requirement already satisfied: requests>=2.26.0 in /usr/local/lib/python3.11/dist-packages (from tiktoken<1,>=0.7->langchain_openai) (2.32.3)\n",
            "Requirement already satisfied: idna>=2.8 in /usr/local/lib/python3.11/dist-packages (from anyio<5,>=3.5.0->openai<2.0.0,>=1.68.2->langchain_openai) (3.10)\n",
            "Requirement already satisfied: certifi in /usr/local/lib/python3.11/dist-packages (from httpx<1,>=0.23.0->openai<2.0.0,>=1.68.2->langchain_openai) (2025.4.26)\n",
            "Requirement already satisfied: httpcore==1.* in /usr/local/lib/python3.11/dist-packages (from httpx<1,>=0.23.0->openai<2.0.0,>=1.68.2->langchain_openai) (1.0.9)\n",
            "Requirement already satisfied: h11>=0.16 in /usr/local/lib/python3.11/dist-packages (from httpcore==1.*->httpx<1,>=0.23.0->openai<2.0.0,>=1.68.2->langchain_openai) (0.16.0)\n",
            "Requirement already satisfied: jsonpointer>=1.9 in /usr/local/lib/python3.11/dist-packages (from jsonpatch<2.0,>=1.33->langchain-core<1.0.0,>=0.3.61->langchain_openai) (3.0.0)\n",
            "Requirement already satisfied: orjson<4.0.0,>=3.9.14 in /usr/local/lib/python3.11/dist-packages (from langsmith<0.4,>=0.1.126->langchain-core<1.0.0,>=0.3.61->langchain_openai) (3.10.18)\n",
            "Requirement already satisfied: requests-toolbelt<2.0.0,>=1.0.0 in /usr/local/lib/python3.11/dist-packages (from langsmith<0.4,>=0.1.126->langchain-core<1.0.0,>=0.3.61->langchain_openai) (1.0.0)\n",
            "Requirement already satisfied: zstandard<0.24.0,>=0.23.0 in /usr/local/lib/python3.11/dist-packages (from langsmith<0.4,>=0.1.126->langchain-core<1.0.0,>=0.3.61->langchain_openai) (0.23.0)\n",
            "Requirement already satisfied: annotated-types>=0.6.0 in /usr/local/lib/python3.11/dist-packages (from pydantic>=2.7.4->langchain-core<1.0.0,>=0.3.61->langchain_openai) (0.7.0)\n",
            "Requirement already satisfied: pydantic-core==2.33.2 in /usr/local/lib/python3.11/dist-packages (from pydantic>=2.7.4->langchain-core<1.0.0,>=0.3.61->langchain_openai) (2.33.2)\n",
            "Requirement already satisfied: typing-inspection>=0.4.0 in /usr/local/lib/python3.11/dist-packages (from pydantic>=2.7.4->langchain-core<1.0.0,>=0.3.61->langchain_openai) (0.4.0)\n",
            "Requirement already satisfied: charset-normalizer<4,>=2 in /usr/local/lib/python3.11/dist-packages (from requests>=2.26.0->tiktoken<1,>=0.7->langchain_openai) (3.4.2)\n",
            "Requirement already satisfied: urllib3<3,>=1.21.1 in /usr/local/lib/python3.11/dist-packages (from requests>=2.26.0->tiktoken<1,>=0.7->langchain_openai) (2.4.0)\n"
          ]
        }
      ]
    },
    {
      "cell_type": "code",
      "source": [],
      "metadata": {
        "id": "oJlrtR-o1oi9"
      },
      "execution_count": 94,
      "outputs": []
    },
    {
      "cell_type": "markdown",
      "source": [
        "## 1.2. API Keys Setup"
      ],
      "metadata": {
        "id": "QHZ8eU382YFt"
      }
    },
    {
      "cell_type": "code",
      "source": [
        "from google.colab import userdata     # Uses Google Colab's secret feature to fetch API Keys\n",
        "import os\n",
        "\n",
        "os.environ[\"OPENAI_API_KEY\"] = userdata.get('OpenAI')     # OpenAI API Key\n",
        "os.environ[\"OPENWEATHER_API_KEY\"] = userdata.get('OpenWeather')     # OpenWeather API Key"
      ],
      "metadata": {
        "id": "KmDGCkXP2Zl5"
      },
      "execution_count": 95,
      "outputs": []
    },
    {
      "cell_type": "markdown",
      "source": [
        "## 1.3. Import"
      ],
      "metadata": {
        "id": "MWtbEOvb2v5M"
      }
    },
    {
      "cell_type": "code",
      "source": [
        "from langchain_openai import ChatOpenAI\n",
        "# from langchain.agents import Tool\n",
        "from langchain.memory import ConversationBufferMemory\n",
        "from langchain.prompts import ChatPromptTemplate, SystemMessagePromptTemplate, HumanMessagePromptTemplate"
      ],
      "metadata": {
        "id": "0h6A4iSt27hh"
      },
      "execution_count": 96,
      "outputs": []
    },
    {
      "cell_type": "markdown",
      "source": [
        "# 2. Tool Definitions"
      ],
      "metadata": {
        "id": "_VSfjkAF3ecx"
      }
    },
    {
      "cell_type": "markdown",
      "source": [
        "## 2.1. Weather Tool"
      ],
      "metadata": {
        "id": "ZCEqHlcJ3ixz"
      }
    },
    {
      "cell_type": "code",
      "source": [
        "import requests\n",
        "\n",
        "def get_weather(destination: str):\n",
        "    api_key = os.environ[\"OPENWEATHER_API_KEY\"]\n",
        "    url = f\"http://api.openweathermap.org/data/2.5/weather?q={destination}&appid={api_key}&units=metric\"\n",
        "    response = requests.get(url).json()\n",
        "\n",
        "    if \"main\" in response:\n",
        "        temp = response[\"main\"][\"temp\"]\n",
        "        desc = response[\"weather\"][0][\"description\"]\n",
        "        return f\"The weather in {destination} is {desc} with a temperature of {temp}°C.\"\n",
        "    else:\n",
        "        return \"Weather data could not be retrieved.\"\n",
        "\n",
        "# weather_tool = Tool(\n",
        "#     name=\"WeatherTool\",\n",
        "#     func=lambda query: get_weather(query),\n",
        "#     description=\"Provides current weather for a given destination\"\n",
        "# )"
      ],
      "metadata": {
        "id": "xtjIaSCx3huW"
      },
      "execution_count": 97,
      "outputs": []
    },
    {
      "cell_type": "markdown",
      "source": [
        "## 2.2. Hotel Finder Tool"
      ],
      "metadata": {
        "id": "AsEZTkr97XVe"
      }
    },
    {
      "cell_type": "code",
      "source": [
        "def find_hotels(destination: str, budget_level: str):\n",
        "    hotels = {\n",
        "        \"budget\": f\"Budget Inn in {destination} - $50/night\",\n",
        "        \"standard\": f\"Comfort Stay in {destination} - $120/night\",\n",
        "        \"luxury\": f\"Grand Getaway in {destination} - $300/night\"\n",
        "    }\n",
        "    return hotels.get(budget_level.lower(), \"No hotel found for selected budget.\")\n",
        "\n",
        "# hotel_tool = Tool(\n",
        "#     name=\"HotelSearchTool\",\n",
        "#     func=lambda query: find_hotels(query[\"destination\"], query[\"budget\"]),\n",
        "#     description=\"Suggests hotels based on destination and budget level\"\n",
        "# )"
      ],
      "metadata": {
        "id": "iWfwww177Zj7"
      },
      "execution_count": 98,
      "outputs": []
    },
    {
      "cell_type": "markdown",
      "source": [
        "## 2.3. Attraction Tool"
      ],
      "metadata": {
        "id": "QlzoUvcC7eoU"
      }
    },
    {
      "cell_type": "code",
      "source": [
        "def suggest_attractions(destination: str, interests: list):\n",
        "    interest_map = {\n",
        "        \"history\": \"visiting the Old Town and National Museum.\",\n",
        "        \"nature\": \"exploring the botanical gardens and the river trail.\",\n",
        "        \"art\": \"checking out the local galleries and art walk.\",\n",
        "        \"food\": \"checking out the local market.\"\n",
        "    }\n",
        "    suggestions = [interest_map.get(interest, \"No suggestions.\") for interest in interests]\n",
        "    return f\"In {destination}, based on your interests you would probably enjoy \" + \" \".join(suggestions)\n",
        "\n",
        "# attraction_tool = Tool(\n",
        "#     name=\"AttractionTool\",\n",
        "#     func=lambda query: suggest_attractions(query[\"destination\"], query[\"interests\"]),\n",
        "#     description=\"Suggests attractions based on user's interests\"\n",
        "# )"
      ],
      "metadata": {
        "id": "FBbxd9k67m4-"
      },
      "execution_count": 99,
      "outputs": []
    },
    {
      "cell_type": "markdown",
      "source": [
        "# 3. LangGraph Setup"
      ],
      "metadata": {
        "id": "frkQDTVo7x5v"
      }
    },
    {
      "cell_type": "markdown",
      "source": [
        "## 3.1. Define State Schema"
      ],
      "metadata": {
        "id": "nOM0EOKUATi5"
      }
    },
    {
      "cell_type": "code",
      "source": [
        "from langgraph.graph import StateGraph, END\n",
        "\n",
        "# Define state schema\n",
        "from typing import TypedDict, List, Optional\n",
        "\n",
        "class PlannerState(TypedDict):\n",
        "    destination: Optional[str]\n",
        "    budget: Optional[str]\n",
        "    interests: Optional[List[str]]\n",
        "    weather_info: Optional[str]\n",
        "    hotel_info: Optional[str]\n",
        "    attraction_info: Optional[str]\n",
        "    final_plan: Optional[str]"
      ],
      "metadata": {
        "id": "M2YqwJJeATB7"
      },
      "execution_count": 100,
      "outputs": []
    },
    {
      "cell_type": "markdown",
      "source": [
        "## 3.2. Node Setup"
      ],
      "metadata": {
        "id": "muuJ2vB_AUDv"
      }
    },
    {
      "cell_type": "code",
      "source": [
        "from langgraph.graph.message import add_messages\n",
        "\n",
        "# Conditional if weather is not provided\n",
        "def input_collector(state: PlannerState) -> PlannerState:\n",
        "    destination = input(\"🌍 Destination: \")\n",
        "    budget = input(\"💰 Budget (budget / standard / luxury): \").strip().lower()\n",
        "    interests_input = input(\"🎯 Interests (history, nature, art, food): \").strip()\n",
        "\n",
        "    weather_info = input(\"🌤️ (Optional) Enter known weather info or press Enter to skip: \").strip()\n",
        "    if not weather_info:\n",
        "        weather_info = None\n",
        "\n",
        "    interests = [i.strip().lower() for i in interests_input.split(\",\")]\n",
        "\n",
        "    return {\n",
        "        \"destination\": destination,\n",
        "        \"budget\": budget,\n",
        "        \"interests\": interests,\n",
        "        \"weather_info\": weather_info,\n",
        "        \"hotel_info\": None,\n",
        "        \"attraction_info\": None,\n",
        "    }\n",
        "\n",
        "# Weather Node\n",
        "def weather_node(state: PlannerState) -> PlannerState:\n",
        "    if not state.get(\"weather_info\"):\n",
        "        state[\"weather_info\"] = get_weather(state[\"destination\"])\n",
        "    return state\n",
        "\n",
        "# Hotel Node\n",
        "def hotel_node(state: PlannerState) -> PlannerState:\n",
        "    if not state.get(\"hotel_info\"):\n",
        "        state[\"hotel_info\"] = find_hotels(state[\"destination\"], state[\"budget\"])\n",
        "    return state\n",
        "\n",
        "# Attraction Node\n",
        "def attraction_node(state: PlannerState) -> PlannerState:\n",
        "    if not state.get(\"attraction_info\"):\n",
        "        state[\"attraction_info\"] = suggest_attractions(state[\"destination\"], state[\"interests\"])\n",
        "    return state"
      ],
      "metadata": {
        "id": "fEhgK7sz72UF"
      },
      "execution_count": 117,
      "outputs": []
    },
    {
      "cell_type": "code",
      "source": [
        "def final_planner(state: PlannerState) -> PlannerState:\n",
        "    system_template = (\n",
        "        \"You are a helpful travel agent specializing in personalized itineraries.\\n\"\n",
        "        \"Destination: {destination}\\n\"\n",
        "        \"Budget: {budget}\\n\"\n",
        "        \"Interests: {interests}\"\n",
        "    )\n",
        "    system_prompt = SystemMessagePromptTemplate.from_template(system_template)\n",
        "\n",
        "    human_template = (\n",
        "        \"Show the {weather} and {hotel} in list format using emojis before showing an itinerary\\n\"\n",
        "        \"Then generate a detailed 3-day travel itinerary for {destination}.\\n\"\n",
        "        \"Use this weather info: {weather}\\n\"\n",
        "        \"Suggested hotel: {hotel}\\n\"\n",
        "        \"Things to do: {activities}\\n\"\n",
        "        \"Make the itinerary fun and practical based on {budget} and {interests}.\\n\"\n",
        "        \"Use emojis as bullets that varies so that it matches the activity\\n\"\n",
        "    )\n",
        "    human_prompt = HumanMessagePromptTemplate.from_template(human_template)\n",
        "\n",
        "    prompt = ChatPromptTemplate.from_messages([system_prompt, human_prompt])\n",
        "\n",
        "    messages = prompt.format_prompt(\n",
        "        destination=state[\"destination\"],\n",
        "        budget=state[\"budget\"],\n",
        "        interests=\", \".join(state[\"interests\"]),\n",
        "        weather=state[\"weather_info\"],\n",
        "        hotel=state[\"hotel_info\"],\n",
        "        activities=state[\"attraction_info\"]\n",
        "    ).to_messages()\n",
        "\n",
        "    chat = ChatOpenAI(temperature=0.7)\n",
        "    result = chat(messages)\n",
        "\n",
        "    return {\n",
        "        **state,\n",
        "        \"final_plan\": result.content\n",
        "    }\n"
      ],
      "metadata": {
        "id": "p2Z2ZeRjrbRn"
      },
      "execution_count": 134,
      "outputs": []
    },
    {
      "cell_type": "markdown",
      "source": [
        "## 3.2. Building the Graph"
      ],
      "metadata": {
        "id": "INoCAUoNAtu_"
      }
    },
    {
      "cell_type": "code",
      "source": [
        "graph = StateGraph(PlannerState)\n",
        "\n",
        "# Nodes\n",
        "graph.add_node(\"Input\", input_collector)\n",
        "graph.add_node(\"Weather\", weather_node)\n",
        "graph.add_node(\"Hotel\", hotel_node)\n",
        "graph.add_node(\"Attractions\", attraction_node)\n",
        "graph.add_node(\"Planner\", final_planner)\n",
        "\n",
        "# Edges\n",
        "graph.set_entry_point(\"Input\")\n",
        "graph.add_edge(\"Input\", \"Weather\")\n",
        "graph.add_edge(\"Weather\", \"Hotel\")\n",
        "graph.add_edge(\"Hotel\", \"Attractions\")\n",
        "graph.add_edge(\"Attractions\", \"Planner\")\n",
        "graph.add_edge(\"Planner\", END)\n",
        "\n",
        "# Compile the graph\n",
        "app = graph.compile()"
      ],
      "metadata": {
        "id": "85OL2z7HAv3_"
      },
      "execution_count": 135,
      "outputs": []
    },
    {
      "cell_type": "markdown",
      "source": [
        "# 4. Run the Agent"
      ],
      "metadata": {
        "id": "qxWlVqtqA1ai"
      }
    },
    {
      "cell_type": "code",
      "source": [
        "print(\"💁 TRAVEL AGENT 💁\\n\")\n",
        "output = app.invoke({})\n",
        "\n",
        "print(\"\\n\")\n",
        "print(output['final_plan'])"
      ],
      "metadata": {
        "colab": {
          "base_uri": "https://localhost:8080/"
        },
        "id": "3OJWJsMyA3pW",
        "outputId": "a53695bb-047e-4fdf-d450-a8dfd43792bb"
      },
      "execution_count": 139,
      "outputs": [
        {
          "output_type": "stream",
          "name": "stdout",
          "text": [
            "💁 TRAVEL AGENT 💁\n",
            "\n",
            "🌍 Destination: Thailand\n",
            "💰 Budget (budget / standard / luxury): standard\n",
            "🎯 Interests (history, nature, art, food): food, nature, history, art\n",
            "🌤️ (Optional) Enter known weather info or press Enter to skip: \n",
            "\n",
            "\n",
            "🌥️ Weather in Thailand: Overcast clouds, 30.81°C\n",
            "\n",
            "💤 Comfort Stay in Thailand: $120/night at Comfort Stay\n",
            "\n",
            "---\n",
            "\n",
            "**3-Day Travel Itinerary for Thailand**\n",
            "\n",
            "**Day 1:**\n",
            "- 🍲 Start your day with a traditional Thai breakfast at a local market.\n",
            "- 🌿 Explore the lush botanical gardens and immerse yourself in nature.\n",
            "- 🚶‍♂️ Take a leisurely stroll along the river trail, enjoying the scenic views.\n",
            "- 🎨 Visit local galleries and take part in an art walk in the afternoon.\n",
            "- 🍽️ Indulge in a delicious Thai dinner at a local restaurant.\n",
            "\n",
            "**Day 2:**\n",
            "- 🕌 Immerse yourself in the rich history of Thailand by visiting the Old Town.\n",
            "- 🏛️ Explore the National Museum to learn more about the country's heritage.\n",
            "- 🍜 Enjoy a traditional Thai lunch at a historic restaurant.\n",
            "- 🚤 Take a boat tour to experience the historical significance of the river.\n",
            "- 🌆 End the day by watching a traditional Thai cultural performance.\n",
            "\n",
            "**Day 3:**\n",
            "- 🧘‍♂️ Start your day with a relaxing yoga session overlooking the beautiful scenery.\n",
            "- 🚲 Embark on a biking tour to explore the hidden gems of Thailand.\n",
            "- 🍲 Taste authentic Thai street food for lunch at a bustling market.\n",
            "- 🏞️ Discover the natural wonders of Thailand by visiting a nearby national park.\n",
            "- 🎭 Attend a local art workshop to create your own masterpiece as a souvenir.\n",
            "\n",
            "Enjoy your personalized itinerary in Thailand!\n"
          ]
        }
      ]
    },
    {
      "cell_type": "code",
      "source": [
        "# OLD CODE\n",
        "\n",
        "# Input Node\n",
        "# Simulate user input\n",
        "# def input_collector(state: PlannerState) -> PlannerState:\n",
        "#     return {\n",
        "#         **state,\n",
        "#         \"destination\": \"Paris\",\n",
        "#         \"budget\": \"standard\",\n",
        "#         \"interests\": [\"art\", \"history\"]\n",
        "#     }\n",
        "\n",
        "# User input\n",
        "# def input_collector(state: PlannerState) -> PlannerState:\n",
        "#     destination = input(\"🌍 Where are you traveling to? \")\n",
        "\n",
        "#     budget = \"\"\n",
        "#     while budget.lower() not in [\"budget\", \"standard\", \"luxury\"]:\n",
        "#         budget = input(\"💰 What's your budget? (budget / standard / luxury): \")\n",
        "\n",
        "#     interests_input = input(\"🎯 What are your interests? (comma-separated, e.g., art, history): \")\n",
        "#     interests = [interest.strip().lower() for interest in interests_input.split(\",\")]\n",
        "\n",
        "#     return {\n",
        "#         \"destination\": destination,\n",
        "#         \"budget\": budget.lower(),\n",
        "#         \"interests\": interests,\n",
        "#         \"weather_info\": None,\n",
        "#         \"hotel_info\": None,\n",
        "#         \"attraction_info\": None,\n",
        "#     }\n",
        "\n",
        "# # Final Planner\n",
        "# def final_planner(state: PlannerState) -> PlannerState:\n",
        "#     plan = f\"\"\"\n",
        "#     ✈️ Trip Plan to {state['destination']}:\n",
        "#     🌤️ Weather: {state['weather_info']}\n",
        "#     🏨 Hotel: {state['hotel_info']}\n",
        "#     🎯 Attractions: {state['attraction_info']}\n",
        "#     \"\"\"\n",
        "#     return {\n",
        "#         **state,\n",
        "#         \"final_plan\": plan\n",
        "#     }"
      ],
      "metadata": {
        "id": "e6ik5tnhrccZ"
      },
      "execution_count": null,
      "outputs": []
    }
  ]
}